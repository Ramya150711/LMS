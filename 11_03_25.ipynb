{
  "nbformat": 4,
  "nbformat_minor": 0,
  "metadata": {
    "colab": {
      "provenance": []
    },
    "kernelspec": {
      "name": "python3",
      "display_name": "Python 3"
    },
    "language_info": {
      "name": "python"
    }
  },
  "cells": [
    {
      "cell_type": "code",
      "execution_count": 3,
      "metadata": {
        "id": "4aARA_fGWcnE"
      },
      "outputs": [],
      "source": [
        "import google.generativeai as genai\n",
        "from google.colab import userdata\n",
        "GOOGLE_API_KEY=userdata.get('GOOGLE_API_KEY')\n",
        "genai.configure(api_key=GOOGLE_API_KEY)"
      ]
    },
    {
      "cell_type": "code",
      "source": [
        "from google import genai\n",
        "from google.genai import types\n",
        "\n",
        "client=genai.Client(api_key=GOOGLE_API_KEY)"
      ],
      "metadata": {
        "id": "xDtHDZf4Y-D9"
      },
      "execution_count": 5,
      "outputs": []
    },
    {
      "cell_type": "code",
      "source": [
        "client=genai.Client(api_key=GOOGLE_API_KEY)"
      ],
      "metadata": {
        "id": "FcHhFpgVX8RH"
      },
      "execution_count": 6,
      "outputs": []
    },
    {
      "cell_type": "code",
      "source": [
        "import pathlib\n",
        "import textwrap\n",
        "from IPython.display import display,Markdown\n",
        "def to_markdown(text):\n",
        "  text=text.replace('.',' *')\n",
        "  return Markdown(textwrap.indent(text, '> ',predicate=lambda _: True))"
      ],
      "metadata": {
        "id": "H5KRh7XUYrlx"
      },
      "execution_count": 7,
      "outputs": []
    },
    {
      "cell_type": "code",
      "source": [
        "import PIL.Image\n",
        "img=PIL.Image.open('image1.jpg')\n",
        "img\n",
        "model=genai.GenerativeModel('gemini-1.5-flash')\n",
        "response=model.generate_content([\"write a short,engaging blog post based on this picture. it should include a description of the meal in the photo and talk about my journey meal prepping.\",img],stream=True)\n",
        "response.resolve()"
      ],
      "metadata": {
        "id": "YwZuetkuZalF"
      },
      "execution_count": 13,
      "outputs": []
    },
    {
      "cell_type": "code",
      "source": [
        "to_markdown(response.text)"
      ],
      "metadata": {
        "colab": {
          "base_uri": "https://localhost:8080/",
          "height": 454
        },
        "id": "PDH4LOL5bpOz",
        "outputId": "90c2a2e3-900e-4e8f-bccd-b36d355911ef"
      },
      "execution_count": 14,
      "outputs": [
        {
          "output_type": "execute_result",
          "data": {
            "text/plain": [
              "<IPython.core.display.Markdown object>"
            ],
            "text/markdown": "> ## My Meal Prep Journey: From Chaos to Colorful Containers!\n> \n> Let's be honest, meal prepping wasn't always this pretty *  For months, my lunches were a sad rotation of questionable leftovers and sad desk salads *  But then, something clicked * I decided to take control of my nutrition and my time, and that’s where my meal prep journey began!\n> \n> The image above shows the fruits (or should I say, *vegetables*?) of my labor!  Two gorgeous glass containers bursting with deliciousness *  Each one holds a perfectly portioned meal of fluffy white rice, tender chicken stir-fry, vibrant red and orange peppers, and a healthy dose of broccoli * It's a balanced, flavorful meal that's both satisfying and visually appealing – a far cry from my previous lunchbox woes!\n> \n> My journey hasn’t been without its bumps *  Early attempts involved too much chopping, not enough seasoning, and more than a few questionable flavor combinations * I’ve learned to plan ahead, utilizing my weekends for efficient prepping *  Choosing versatile recipes, like this chicken and veggie stir-fry, has been key *  They can be easily adapted to different tastes and leftover ingredients *\n> \n> Now, preparing these vibrant, healthy meals is not only efficient but also something I actually *look forward* to * The satisfaction of opening my lunchbox to a delicious, nutritious meal is unparalleled * So, if you're on the fence about meal prepping, take the leap!  Start small, experiment with recipes, and don't be afraid to try new things *  The rewards are well worth the effort!\n"
          },
          "metadata": {},
          "execution_count": 14
        }
      ]
    },
    {
      "cell_type": "code",
      "source": [
        "response=model.generate_content([\"Generate an accurate caption for this image1\",img])\n",
        "print(response.text)"
      ],
      "metadata": {
        "colab": {
          "base_uri": "https://localhost:8080/",
          "height": 419
        },
        "id": "psOhjkkbcaOo",
        "outputId": "d7670dc1-20d8-4254-b852-a2ec424c4f1a"
      },
      "execution_count": 15,
      "outputs": [
        {
          "output_type": "stream",
          "name": "stdout",
          "text": [
            "Here are a few caption options for the image:\n",
            "\n",
            "**Option 1 (Simple & Descriptive):**\n",
            "\n",
            "> Healthy and delicious meal prep!  Chicken and broccoli with rice, ready for the week.\n",
            "\n",
            "**Option 2 (Slightly more engaging):**\n",
            "\n",
            "> Lunch goals!  These teriyaki chicken and veggie bowls are packed with flavor and easy to grab-and-go.  #mealprep #healthyfood #lunchideas\n",
            "\n",
            "**Option 3 (Focus on convenience):**\n",
            "\n",
            "> Weeknight dinners just got easier.  Batch cooking at its finest! #mealprepsunday #easyrecipes #healthymeals\n",
            "\n",
            "\n",
            "**Option 4 (More detailed):**\n",
            "\n",
            ">  Teriyaki chicken, rice, broccoli, and carrots - the perfect combination of protein and veggies in these convenient meal prep containers. Ready for a healthy and satisfying lunch or dinner! #mealprepping #healthylifestyle #deliciousandhealthy\n",
            "\n",
            "\n",
            "Choose the caption that best suits your intended audience and platform.  Remember to use relevant hashtags if you're posting on social media.\n",
            "\n"
          ]
        }
      ]
    },
    {
      "cell_type": "code",
      "source": [
        "from PIL import Image\n",
        "image_path=\"girl.jpg\"\n",
        "image=Image.open(image_path)\n",
        "response=model.generate_content([\"Describe this image in detail.\",image])\n",
        "print(response.text)"
      ],
      "metadata": {
        "colab": {
          "base_uri": "https://localhost:8080/",
          "height": 263
        },
        "id": "wir7DiRXeQeu",
        "outputId": "ef5c893a-d61a-4612-a364-4a2424bd2fd8"
      },
      "execution_count": 17,
      "outputs": [
        {
          "output_type": "stream",
          "name": "stdout",
          "text": [
            "Here's a description of the image:\n",
            "\n",
            "Close-up view of a woman with shoulder-length, curly brown hair. \n",
            "\n",
            "\n",
            "She is smiling and pointing with her index finger towards something off-camera, to the left. Her arms are crossed, with one arm bent at the elbow and her hand gesturing.\n",
            "\n",
            "\n",
            "She's wearing a teal-colored, three-quarter-sleeved top or kurta with a subtle, gold-toned pattern or print. The top has a simple, collared neckline. \n",
            "\n",
            "\n",
            "The background is a plain, bright white, which keeps the focus entirely on the woman. The overall lighting is soft and even. The woman appears to be of South Asian descent. Her expression is friendly and approachable.\n",
            "\n"
          ]
        }
      ]
    },
    {
      "cell_type": "code",
      "source": [
        "response=model.generate_content([\"What emotions can you detect in this image?\",image])\n",
        "print(response.text)"
      ],
      "metadata": {
        "colab": {
          "base_uri": "https://localhost:8080/",
          "height": 193
        },
        "id": "Lz54RNbZgdEj",
        "outputId": "06ab828c-0f6d-4bc0-9652-34386e5eed49"
      },
      "execution_count": 19,
      "outputs": [
        {
          "output_type": "stream",
          "name": "stdout",
          "text": [
            "The woman in the image appears to be expressing:\n",
            "\n",
            "* **Confidence:** Her posture is open and direct, her gaze is steady, and she's making a clear gesture.\n",
            "* **Friendliness:** Her smile is genuine and inviting.\n",
            "* **Helpfulness/Guidance:**  The pointing gesture suggests she's offering information or direction.\n",
            "* **Positivity:** Her overall demeanor conveys a cheerful and optimistic attitude.\n",
            "\n",
            "There's no indication of negative emotions in her expression or body language.\n",
            "\n"
          ]
        }
      ]
    },
    {
      "cell_type": "code",
      "source": [],
      "metadata": {
        "id": "5TefQTzehtkn"
      },
      "execution_count": null,
      "outputs": []
    }
  ]
}