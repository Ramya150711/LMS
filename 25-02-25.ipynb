{
 "cells": [
  {
   "cell_type": "code",
   "execution_count": 2,
   "id": "f8e15b0f",
   "metadata": {},
   "outputs": [
    {
     "name": "stdout",
     "output_type": "stream",
     "text": [
      "Requirement already satisfied: gTTS in c:\\users\\k.ramya\\anaconda3\\lib\\site-packages (2.5.4)\n",
      "Requirement already satisfied: requests<3,>=2.27 in c:\\users\\k.ramya\\anaconda3\\lib\\site-packages (from gTTS) (2.31.0)\n",
      "Requirement already satisfied: click<8.2,>=7.1 in c:\\users\\k.ramya\\anaconda3\\lib\\site-packages (from gTTS) (8.0.4)\n",
      "Requirement already satisfied: colorama in c:\\users\\k.ramya\\anaconda3\\lib\\site-packages (from click<8.2,>=7.1->gTTS) (0.4.6)\n",
      "Requirement already satisfied: charset-normalizer<4,>=2 in c:\\users\\k.ramya\\anaconda3\\lib\\site-packages (from requests<3,>=2.27->gTTS) (2.0.4)\n",
      "Requirement already satisfied: idna<4,>=2.5 in c:\\users\\k.ramya\\anaconda3\\lib\\site-packages (from requests<3,>=2.27->gTTS) (3.4)\n",
      "Requirement already satisfied: urllib3<3,>=1.21.1 in c:\\users\\k.ramya\\anaconda3\\lib\\site-packages (from requests<3,>=2.27->gTTS) (1.26.16)\n",
      "Requirement already satisfied: certifi>=2017.4.17 in c:\\users\\k.ramya\\anaconda3\\lib\\site-packages (from requests<3,>=2.27->gTTS) (2023.7.22)\n"
     ]
    }
   ],
   "source": [
    "!pip install gTTS"
   ]
  },
  {
   "cell_type": "code",
   "execution_count": 3,
   "id": "5f11d6c2",
   "metadata": {},
   "outputs": [],
   "source": [
    "from gtts import gTTS"
   ]
  },
  {
   "cell_type": "code",
   "execution_count": 4,
   "id": "34066e07",
   "metadata": {},
   "outputs": [],
   "source": [
    "convert=gTTS(text='I like this NLP.how about dude!',lang='en',slow='False')\n",
    "convert.save('audio.mp3')"
   ]
  },
  {
   "cell_type": "code",
   "execution_count": 5,
   "id": "6498976c",
   "metadata": {},
   "outputs": [
    {
     "name": "stdout",
     "output_type": "stream",
     "text": [
      "Collecting pyttsx3\n",
      "  Obtaining dependency information for pyttsx3 from https://files.pythonhosted.org/packages/94/df/e1584757c736c4fba09a3fb4f22fe625cc3367b06c6ece221e4b8c1e3023/pyttsx3-2.98-py3-none-any.whl.metadata\n",
      "  Downloading pyttsx3-2.98-py3-none-any.whl.metadata (3.8 kB)\n",
      "Collecting comtypes (from pyttsx3)\n",
      "  Obtaining dependency information for comtypes from https://files.pythonhosted.org/packages/4c/44/72009bb0a0d8286f6408c9cb70552350e21e9c280bfa1ef30784b30dfc0f/comtypes-1.4.10-py3-none-any.whl.metadata\n",
      "  Downloading comtypes-1.4.10-py3-none-any.whl.metadata (7.2 kB)\n",
      "Collecting pypiwin32 (from pyttsx3)\n",
      "  Obtaining dependency information for pypiwin32 from https://files.pythonhosted.org/packages/d0/1b/2f292bbd742e369a100c91faa0483172cd91a1a422a6692055ac920946c5/pypiwin32-223-py3-none-any.whl.metadata\n",
      "  Downloading pypiwin32-223-py3-none-any.whl.metadata (236 bytes)\n",
      "Requirement already satisfied: pywin32 in c:\\users\\k.ramya\\anaconda3\\lib\\site-packages (from pyttsx3) (305.1)\n",
      "Downloading pyttsx3-2.98-py3-none-any.whl (34 kB)\n",
      "Downloading comtypes-1.4.10-py3-none-any.whl (241 kB)\n",
      "   ---------------------------------------- 0.0/241.5 kB ? eta -:--:--\n",
      "   ------------------ --------------------- 112.6/241.5 kB 3.2 MB/s eta 0:00:01\n",
      "   ---------------------------------------- 241.5/241.5 kB 3.0 MB/s eta 0:00:00\n",
      "Downloading pypiwin32-223-py3-none-any.whl (1.7 kB)\n",
      "Installing collected packages: pypiwin32, comtypes, pyttsx3\n",
      "Successfully installed comtypes-1.4.10 pypiwin32-223 pyttsx3-2.98\n"
     ]
    }
   ],
   "source": [
    "!pip3 install pyttsx3"
   ]
  },
  {
   "cell_type": "code",
   "execution_count": 6,
   "id": "3c817fcb",
   "metadata": {},
   "outputs": [],
   "source": [
    "import pyttsx3,time\n",
    "engine=pyttsx3.init()\n",
    "engine.say(\"Hi,i am text to speech\")\n",
    "engine.runAndWait()"
   ]
  },
  {
   "cell_type": "code",
   "execution_count": 7,
   "id": "52222708",
   "metadata": {},
   "outputs": [],
   "source": [
    "text=['This is introduction to NLP','It is likely to be useful',\\\n",
    "      'machine learning is the new electricity','There would be less hype around AI and more action going for',\n",
    "      'python is the best toll!','R is good language','I like this book']"
   ]
  },
  {
   "cell_type": "code",
   "execution_count": 10,
   "id": "40a04a8f",
   "metadata": {},
   "outputs": [],
   "source": [
    "engine=pyttsx3.init()\n",
    "engine.say(text)\n",
    "engine.runAndWait()"
   ]
  },
  {
   "cell_type": "code",
   "execution_count": 13,
   "id": "2d12cba2",
   "metadata": {},
   "outputs": [
    {
     "name": "stdout",
     "output_type": "stream",
     "text": [
      "200\n",
      "1.0\n"
     ]
    }
   ],
   "source": [
    "import pyttsx3\n",
    "engine=pyttsx3.init()\n",
    "rate=engine.getProperty('rate')\n",
    "print(rate)\n",
    "engine.setProperty('rate',150)\n",
    "volume=engine.getProperty('volume')\n",
    "print(volume)\n",
    "engine.setProperty('volume',1.0)\n",
    "voices=engine.getProperty('voices')\n",
    "engine.setProperty('voice',voices[1].id)\n",
    "engine.say(\"Hello world\")\n",
    "engine.say(\"My current speaking rate is\"+str(rate))\n",
    "engine.say(\"my current speaking volume is\"+str(volume))\n",
    "engine.runAndWait()\n",
    "engine.stop()"
   ]
  },
  {
   "cell_type": "code",
   "execution_count": 15,
   "id": "349fdd1d",
   "metadata": {},
   "outputs": [
    {
     "name": "stdout",
     "output_type": "stream",
     "text": [
      "Collecting goslate\n",
      "  Downloading goslate-1.5.4.tar.gz (14 kB)\n",
      "  Preparing metadata (setup.py): started\n",
      "  Preparing metadata (setup.py): finished with status 'done'\n",
      "Collecting futures (from goslate)\n",
      "  Downloading futures-3.0.5.tar.gz (25 kB)\n",
      "  Preparing metadata (setup.py): started\n",
      "  Preparing metadata (setup.py): finished with status 'error'\n"
     ]
    },
    {
     "name": "stderr",
     "output_type": "stream",
     "text": [
      "  error: subprocess-exited-with-error\n",
      "  \n",
      "  python setup.py egg_info did not run successfully.\n",
      "  exit code: 1\n",
      "  \n",
      "  [30 lines of output]\n",
      "  Traceback (most recent call last):\n",
      "    File \"<string>\", line 2, in <module>\n",
      "    File \"<pip-setuptools-caller>\", line 14, in <module>\n",
      "    File \"C:\\Users\\K.Ramya\\anaconda3\\Lib\\site-packages\\setuptools\\__init__.py\", line 270, in <module>\n",
      "      monkey.patch_all()\n",
      "    File \"C:\\Users\\K.Ramya\\anaconda3\\Lib\\site-packages\\setuptools\\monkey.py\", line 97, in patch_all\n",
      "      patch_for_msvc_specialized_compiler()\n",
      "    File \"C:\\Users\\K.Ramya\\anaconda3\\Lib\\site-packages\\setuptools\\monkey.py\", line 157, in patch_for_msvc_specialized_compiler\n",
      "      patch_func(*msvc14('_get_vc_env'))\n",
      "                  ^^^^^^^^^^^^^^^^^^^^^\n",
      "    File \"C:\\Users\\K.Ramya\\anaconda3\\Lib\\site-packages\\setuptools\\monkey.py\", line 147, in patch_params\n",
      "      mod = import_module(mod_name)\n",
      "            ^^^^^^^^^^^^^^^^^^^^^^^\n",
      "    File \"C:\\Users\\K.Ramya\\anaconda3\\Lib\\importlib\\__init__.py\", line 126, in import_module\n",
      "      return _bootstrap._gcd_import(name[level:], package, level)\n",
      "             ^^^^^^^^^^^^^^^^^^^^^^^^^^^^^^^^^^^^^^^^^^^^^^^^^^^^\n",
      "    File \"C:\\Users\\K.Ramya\\anaconda3\\Lib\\site-packages\\setuptools\\_distutils\\_msvccompiler.py\", line 20, in <module>\n",
      "      import unittest.mock as mock\n",
      "    File \"C:\\Users\\K.Ramya\\anaconda3\\Lib\\unittest\\mock.py\", line 26, in <module>\n",
      "      import asyncio\n",
      "    File \"C:\\Users\\K.Ramya\\anaconda3\\Lib\\asyncio\\__init__.py\", line 8, in <module>\n",
      "      from .base_events import *\n",
      "    File \"C:\\Users\\K.Ramya\\anaconda3\\Lib\\asyncio\\base_events.py\", line 18, in <module>\n",
      "      import concurrent.futures\n",
      "    File \"C:\\Users\\K.Ramya\\AppData\\Local\\Temp\\pip-install-r607jxyt\\futures_1e977ba8b2e547178179d09041557b80\\concurrent\\futures\\__init__.py\", line 8, in <module>\n",
      "      from concurrent.futures._base import (FIRST_COMPLETED,\n",
      "    File \"C:\\Users\\K.Ramya\\AppData\\Local\\Temp\\pip-install-r607jxyt\\futures_1e977ba8b2e547178179d09041557b80\\concurrent\\futures\\_base.py\", line 357\n",
      "      raise type(self._exception), self._exception, self._traceback\n",
      "                                 ^\n",
      "  SyntaxError: invalid syntax\n",
      "  [end of output]\n",
      "  \n",
      "  note: This error originates from a subprocess, and is likely not a problem with pip.\n",
      "error: metadata-generation-failed\n",
      "\n",
      "Encountered error while generating package metadata.\n",
      "\n",
      "See above for output.\n",
      "\n",
      "note: This is an issue with the package mentioned above, not pip.\n",
      "hint: See above for details.\n"
     ]
    }
   ],
   "source": [
    "!pip install goslate"
   ]
  },
  {
   "cell_type": "code",
   "execution_count": 17,
   "id": "157ddf57",
   "metadata": {},
   "outputs": [],
   "source": [
    "text=\"Bonjour le monde\""
   ]
  },
  {
   "cell_type": "code",
   "execution_count": null,
   "id": "7e3173a2",
   "metadata": {},
   "outputs": [],
   "source": [
    "import goslate"
   ]
  },
  {
   "cell_type": "code",
   "execution_count": null,
   "id": "6509b5b0",
   "metadata": {},
   "outputs": [],
   "source": [
    "gs=goslate.Goslate()\n",
    "translatedText=gs.translate(text,'en')\n",
    "print(translatedText)"
   ]
  },
  {
   "cell_type": "code",
   "execution_count": 27,
   "id": "93b94dfe",
   "metadata": {},
   "outputs": [
    {
     "name": "stdout",
     "output_type": "stream",
     "text": [
      "Collecting translate\n",
      "  Obtaining dependency information for translate from https://files.pythonhosted.org/packages/e1/54/df0d3e62636f291d716caa44c5c9590af8e6f225c59d7874051da6428c06/translate-3.6.1-py2.py3-none-any.whl.metadata\n",
      "  Downloading translate-3.6.1-py2.py3-none-any.whl.metadata (7.7 kB)\n",
      "Requirement already satisfied: click in c:\\users\\k.ramya\\anaconda3\\lib\\site-packages (from translate) (8.0.4)\n",
      "Requirement already satisfied: lxml in c:\\users\\k.ramya\\anaconda3\\lib\\site-packages (from translate) (4.9.2)\n",
      "Requirement already satisfied: requests in c:\\users\\k.ramya\\anaconda3\\lib\\site-packages (from translate) (2.31.0)\n",
      "Collecting libretranslatepy==2.1.1 (from translate)\n",
      "  Obtaining dependency information for libretranslatepy==2.1.1 from https://files.pythonhosted.org/packages/24/54/044ecbf4eeba3f3feee70d496f34f397dc20714cdb80dfa8bc01e7409f88/libretranslatepy-2.1.1-py3-none-any.whl.metadata\n",
      "  Downloading libretranslatepy-2.1.1-py3-none-any.whl.metadata (233 bytes)\n",
      "Requirement already satisfied: colorama in c:\\users\\k.ramya\\anaconda3\\lib\\site-packages (from click->translate) (0.4.6)\n",
      "Requirement already satisfied: charset-normalizer<4,>=2 in c:\\users\\k.ramya\\anaconda3\\lib\\site-packages (from requests->translate) (2.0.4)\n",
      "Requirement already satisfied: idna<4,>=2.5 in c:\\users\\k.ramya\\anaconda3\\lib\\site-packages (from requests->translate) (2.10)\n",
      "Requirement already satisfied: urllib3<3,>=1.21.1 in c:\\users\\k.ramya\\anaconda3\\lib\\site-packages (from requests->translate) (1.26.16)\n",
      "Requirement already satisfied: certifi>=2017.4.17 in c:\\users\\k.ramya\\anaconda3\\lib\\site-packages (from requests->translate) (2023.7.22)\n",
      "Downloading translate-3.6.1-py2.py3-none-any.whl (12 kB)\n",
      "Downloading libretranslatepy-2.1.1-py3-none-any.whl (3.2 kB)\n",
      "Installing collected packages: libretranslatepy, translate\n",
      "Successfully installed libretranslatepy-2.1.1 translate-3.6.1\n"
     ]
    }
   ],
   "source": [
    "!pip install translate"
   ]
  },
  {
   "cell_type": "code",
   "execution_count": 29,
   "id": "a78dbefb",
   "metadata": {},
   "outputs": [
    {
     "data": {
      "text/plain": [
       "'ఎలా ఉనారు ?'"
      ]
     },
     "execution_count": 29,
     "metadata": {},
     "output_type": "execute_result"
    }
   ],
   "source": [
    "from translate import Translator\n",
    "translator=Translator(to_lang='te')\n",
    "translation=translator.translate(\"How are you?\")\n",
    "translation"
   ]
  },
  {
   "cell_type": "code",
   "execution_count": 30,
   "id": "2d609c0d",
   "metadata": {},
   "outputs": [
    {
     "data": {
      "text/plain": [
       "'कशी आहेस?'"
      ]
     },
     "execution_count": 30,
     "metadata": {},
     "output_type": "execute_result"
    }
   ],
   "source": [
    "from translate import Translator\n",
    "translator=Translator(to_lang='mr')\n",
    "translation=translator.translate(\"How are you?\")\n",
    "translation"
   ]
  },
  {
   "cell_type": "code",
   "execution_count": 31,
   "id": "c4b24ab0",
   "metadata": {},
   "outputs": [
    {
     "name": "stdout",
     "output_type": "stream",
     "text": [
      "Collecting SpeechRecognition\n",
      "  Obtaining dependency information for SpeechRecognition from https://files.pythonhosted.org/packages/09/47/5dcfcd8a2c8c2981986fc196e98fc57bc1ecb5233b2d54dac0c0d448b019/SpeechRecognition-3.14.1-py3-none-any.whl.metadata\n",
      "  Downloading SpeechRecognition-3.14.1-py3-none-any.whl.metadata (31 kB)\n",
      "Requirement already satisfied: typing-extensions in c:\\users\\k.ramya\\anaconda3\\lib\\site-packages (from SpeechRecognition) (4.12.2)\n",
      "Downloading SpeechRecognition-3.14.1-py3-none-any.whl (32.9 MB)\n",
      "   ---------------------------------------- 0.0/32.9 MB ? eta -:--:--\n",
      "   ---------------------------------------- 0.1/32.9 MB 1.7 MB/s eta 0:00:20\n",
      "   ---------------------------------------- 0.2/32.9 MB 2.1 MB/s eta 0:00:16\n",
      "   ---------------------------------------- 0.2/32.9 MB 1.9 MB/s eta 0:00:18\n",
      "   ---------------------------------------- 0.2/32.9 MB 1.9 MB/s eta 0:00:18\n",
      "    --------------------------------------- 0.5/32.9 MB 2.3 MB/s eta 0:00:14\n",
      "    --------------------------------------- 0.6/32.9 MB 2.4 MB/s eta 0:00:14\n",
      "   - -------------------------------------- 0.9/32.9 MB 2.7 MB/s eta 0:00:12\n",
      "   - -------------------------------------- 1.1/32.9 MB 3.0 MB/s eta 0:00:11\n",
      "   - -------------------------------------- 1.1/32.9 MB 3.0 MB/s eta 0:00:11\n",
      "   - -------------------------------------- 1.4/32.9 MB 3.0 MB/s eta 0:00:11\n",
      "   - -------------------------------------- 1.6/32.9 MB 3.3 MB/s eta 0:00:10\n",
      "   -- ------------------------------------- 2.0/32.9 MB 3.7 MB/s eta 0:00:09\n",
      "   -- ------------------------------------- 2.2/32.9 MB 3.8 MB/s eta 0:00:09\n",
      "   -- ------------------------------------- 2.3/32.9 MB 3.8 MB/s eta 0:00:09\n",
      "   --- ------------------------------------ 2.6/32.9 MB 3.9 MB/s eta 0:00:08\n",
      "   --- ------------------------------------ 2.7/32.9 MB 3.7 MB/s eta 0:00:09\n",
      "   --- ------------------------------------ 2.7/32.9 MB 3.7 MB/s eta 0:00:09\n",
      "   --- ------------------------------------ 3.3/32.9 MB 3.9 MB/s eta 0:00:08\n",
      "   ---- ----------------------------------- 3.5/32.9 MB 4.0 MB/s eta 0:00:08\n",
      "   ---- ----------------------------------- 3.8/32.9 MB 4.1 MB/s eta 0:00:08\n",
      "   ---- ----------------------------------- 4.1/32.9 MB 4.2 MB/s eta 0:00:07\n",
      "   ----- ---------------------------------- 4.4/32.9 MB 4.4 MB/s eta 0:00:07\n",
      "   ----- ---------------------------------- 4.8/32.9 MB 4.5 MB/s eta 0:00:07\n",
      "   ------ --------------------------------- 5.1/32.9 MB 4.6 MB/s eta 0:00:07\n",
      "   ------ --------------------------------- 5.2/32.9 MB 4.7 MB/s eta 0:00:06\n",
      "   ------- -------------------------------- 5.8/32.9 MB 4.9 MB/s eta 0:00:06\n",
      "   ------- -------------------------------- 6.2/32.9 MB 5.0 MB/s eta 0:00:06\n",
      "   -------- ------------------------------- 6.7/32.9 MB 5.1 MB/s eta 0:00:06\n",
      "   -------- ------------------------------- 7.1/32.9 MB 5.3 MB/s eta 0:00:05\n",
      "   --------- ------------------------------ 7.6/32.9 MB 5.5 MB/s eta 0:00:05\n",
      "   --------- ------------------------------ 8.1/32.9 MB 5.6 MB/s eta 0:00:05\n",
      "   ---------- ----------------------------- 8.6/32.9 MB 5.8 MB/s eta 0:00:05\n",
      "   ----------- ---------------------------- 9.2/32.9 MB 6.0 MB/s eta 0:00:04\n",
      "   ----------- ---------------------------- 9.7/32.9 MB 6.2 MB/s eta 0:00:04\n",
      "   ------------ --------------------------- 10.1/32.9 MB 6.2 MB/s eta 0:00:04\n",
      "   ------------- -------------------------- 10.9/32.9 MB 7.4 MB/s eta 0:00:03\n",
      "   -------------- ------------------------- 11.7/32.9 MB 8.1 MB/s eta 0:00:03\n",
      "   --------------- ------------------------ 12.4/32.9 MB 8.6 MB/s eta 0:00:03\n",
      "   --------------- ------------------------ 12.9/32.9 MB 10.2 MB/s eta 0:00:02\n",
      "   ---------------- ----------------------- 13.9/32.9 MB 10.6 MB/s eta 0:00:02\n",
      "   ----------------- ---------------------- 14.7/32.9 MB 11.7 MB/s eta 0:00:02\n",
      "   ------------------ --------------------- 15.6/32.9 MB 12.8 MB/s eta 0:00:02\n",
      "   ------------------- -------------------- 15.9/32.9 MB 13.1 MB/s eta 0:00:02\n",
      "   --------------------- ------------------ 17.5/32.9 MB 14.9 MB/s eta 0:00:02\n",
      "   ---------------------- ----------------- 18.5/32.9 MB 16.0 MB/s eta 0:00:01\n",
      "   ----------------------- ---------------- 19.5/32.9 MB 17.2 MB/s eta 0:00:01\n",
      "   ------------------------- -------------- 20.6/32.9 MB 18.2 MB/s eta 0:00:01\n",
      "   -------------------------- ------------- 21.7/32.9 MB 19.3 MB/s eta 0:00:01\n",
      "   --------------------------- ------------ 23.0/32.9 MB 20.5 MB/s eta 0:00:01\n",
      "   ----------------------------- ---------- 24.2/32.9 MB 21.8 MB/s eta 0:00:01\n",
      "   ------------------------------ --------- 25.1/32.9 MB 23.4 MB/s eta 0:00:01\n",
      "   -------------------------------- ------- 26.7/32.9 MB 24.2 MB/s eta 0:00:01\n",
      "   ---------------------------------- ----- 28.1/32.9 MB 25.1 MB/s eta 0:00:01\n",
      "   ----------------------------------- ---- 29.2/32.9 MB 25.1 MB/s eta 0:00:01\n",
      "   ------------------------------------- -- 30.8/32.9 MB 27.3 MB/s eta 0:00:01\n",
      "   ---------------------------------------  32.2/32.9 MB 28.4 MB/s eta 0:00:01\n",
      "   ---------------------------------------  32.8/32.9 MB 28.4 MB/s eta 0:00:01\n",
      "   ---------------------------------------  32.8/32.9 MB 28.4 MB/s eta 0:00:01\n",
      "   ---------------------------------------- 32.9/32.9 MB 23.3 MB/s eta 0:00:00\n",
      "Installing collected packages: SpeechRecognition\n",
      "Successfully installed SpeechRecognition-3.14.1\n"
     ]
    }
   ],
   "source": [
    "!pip install SpeechRecognition"
   ]
  },
  {
   "cell_type": "code",
   "execution_count": 32,
   "id": "69e2e5d9",
   "metadata": {},
   "outputs": [
    {
     "name": "stdout",
     "output_type": "stream",
     "text": [
      "Collecting PyAudio\n",
      "  Obtaining dependency information for PyAudio from https://files.pythonhosted.org/packages/82/d8/f043c854aad450a76e476b0cf9cda1956419e1dacf1062eb9df3c0055abe/PyAudio-0.2.14-cp311-cp311-win_amd64.whl.metadata\n",
      "  Downloading PyAudio-0.2.14-cp311-cp311-win_amd64.whl.metadata (2.7 kB)\n",
      "Downloading PyAudio-0.2.14-cp311-cp311-win_amd64.whl (164 kB)\n",
      "   ---------------------------------------- 0.0/164.1 kB ? eta -:--:--\n",
      "   ---------------------------------------  163.8/164.1 kB 5.0 MB/s eta 0:00:01\n",
      "   ---------------------------------------- 164.1/164.1 kB 2.5 MB/s eta 0:00:00\n",
      "Installing collected packages: PyAudio\n",
      "Successfully installed PyAudio-0.2.14\n"
     ]
    }
   ],
   "source": [
    "!pip install PyAudio"
   ]
  },
  {
   "cell_type": "code",
   "execution_count": 35,
   "id": "17ea9846",
   "metadata": {},
   "outputs": [],
   "source": [
    "import speech_recognition as sr"
   ]
  },
  {
   "cell_type": "code",
   "execution_count": 36,
   "id": "2d12dd01",
   "metadata": {},
   "outputs": [
    {
     "name": "stdout",
     "output_type": "stream",
     "text": [
      "Please say something\n"
     ]
    }
   ],
   "source": [
    "r=sr.Recognizer()\n",
    "with sr.Microphone() as source:\n",
    "    print(\"Please say something\")\n",
    "    audio=r.listen(source)\n",
    "try:\n",
    "    print(\"I think you said: \"+r.recognize_google(audio))\n",
    "except:\n",
    "    pass"
   ]
  },
  {
   "cell_type": "code",
   "execution_count": null,
   "id": "67d3a127",
   "metadata": {},
   "outputs": [],
   "source": []
  }
 ],
 "metadata": {
  "kernelspec": {
   "display_name": "Python 3 (ipykernel)",
   "language": "python",
   "name": "python3"
  },
  "language_info": {
   "codemirror_mode": {
    "name": "ipython",
    "version": 3
   },
   "file_extension": ".py",
   "mimetype": "text/x-python",
   "name": "python",
   "nbconvert_exporter": "python",
   "pygments_lexer": "ipython3",
   "version": "3.11.4"
  }
 },
 "nbformat": 4,
 "nbformat_minor": 5
}
