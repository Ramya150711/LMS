{
  "nbformat": 4,
  "nbformat_minor": 0,
  "metadata": {
    "colab": {
      "provenance": []
    },
    "kernelspec": {
      "name": "python3",
      "display_name": "Python 3"
    },
    "language_info": {
      "name": "python"
    }
  },
  "cells": [
    {
      "cell_type": "code",
      "execution_count": 2,
      "metadata": {
        "id": "Aw9dv5l23Rdf",
        "colab": {
          "base_uri": "https://localhost:8080/"
        },
        "outputId": "61bda52e-8ad8-497b-bd48-7e66664ef062"
      },
      "outputs": [
        {
          "output_type": "stream",
          "name": "stdout",
          "text": [
            "Welcome to the Indian Tourism Chatbot!\n",
            "Type 'quit' to end the conversation.\n",
            "\n",
            "User:Some intresting facts about India\n",
            "Chatbot: Have you ever been to India? It's the third-largest country in the world.\n",
            "User:do you know me\n",
            "Chatbot: I don't know you, but I do know that India is the seventh largest country by area.\n",
            "User:tell me something about Virat kohli\n",
            "Chatbot: Virginia is a state in the southeastern region of the United States.\n",
            "User:which is the best place to chill\n",
            "Chatbot: I do not know much about it, but it seems like it would be a good place to relax.\n",
            "User:which place,suggest me few places\n",
            "Chatbot: I'm not sure, but I do know that it is the world's largest chatbot.\n",
            "User:quit\n",
            "Thank you for using the Indian Tourism Chatbot.Goodbye!\n"
          ]
        }
      ],
      "source": [
        "import os\n",
        "import atexit\n",
        "import shutil\n",
        "from transformers import BlenderbotTokenizer, BlenderbotForConditionalGeneration\n",
        "model_name=\"facebook/blenderbot-1B-distill\"\n",
        "tokenizer=BlenderbotTokenizer.from_pretrained(model_name)\n",
        "model=BlenderbotForConditionalGeneration.from_pretrained(model_name)\n",
        "def interact_with_chatbot(user_input,conversation_history):\n",
        "  conversation_history.append(f\"user:{user_input}\")\n",
        "  conversation_text=\" \".join(conversation_history[-5:])\n",
        "  inputs=tokenizer(conversation_text,return_tensors=\"pt\",truncation=True)\n",
        "  response_ids=model.generate(**inputs,max_length=1000,pad_token_id=tokenizer.eos_token_id)\n",
        "  response_text=tokenizer.decode(response_ids[0],skip_special_tokens=True)\n",
        "  conversation_history.append(f\"Chatbot:{response_text}\")\n",
        "  return response_text\n",
        "def delete_model_files():\n",
        "  cache_dir=os.path.expanduser(\"~/.cache/huggingface/hub/models--facebook--blenderbot-1B-distill\")\n",
        "  if os.path.exists(cache_dir):\n",
        "    user_input=input(\"Do you want to delete the model files from the cache directory? (y/n):\")\n",
        "    if user_input.lower()==\"y\":\n",
        "      shutil.rmtree(cache_dir)\n",
        "      print(f\"Deleted model files from cache drectory: {cache_dir}\")\n",
        "    else:\n",
        "      print(\"models files will not be deleted from the cache directory.\")\n",
        "  else:\n",
        "    print(f\"model files not found in the cache directory: {cache_dir}\")\n",
        "atexit.register(delete_model_files)\n",
        "print(\"Welcome to the Indian Tourism Chatbot!\")\n",
        "print(\"Type 'quit' to end the conversation.\\n\")\n",
        "conversation_history=[]\n",
        "while True:\n",
        "  user_input=input(\"User:\")\n",
        "  if user_input.lower()==\"quit\":\n",
        "    print(\"Thank you for using the Indian Tourism Chatbot.Goodbye!\")\n",
        "    break\n",
        "  response=interact_with_chatbot(user_input,conversation_history)\n",
        "  print(f\"Chatbot:{response}\")"
      ]
    },
    {
      "cell_type": "code",
      "source": [],
      "metadata": {
        "id": "SFwaNh5FWR-E"
      },
      "execution_count": null,
      "outputs": []
    }
  ]
}