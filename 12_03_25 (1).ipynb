{
  "nbformat": 4,
  "nbformat_minor": 0,
  "metadata": {
    "colab": {
      "provenance": []
    },
    "kernelspec": {
      "name": "python3",
      "display_name": "Python 3"
    },
    "language_info": {
      "name": "python"
    }
  },
  "cells": [
    {
      "cell_type": "code",
      "execution_count": 43,
      "metadata": {
        "id": "4aARA_fGWcnE"
      },
      "outputs": [],
      "source": [
        "import google.generativeai as genai\n",
        "from google.colab import userdata\n",
        "GOOGLE_API_KEY=userdata.get('GOOGLE_API_KEY')\n",
        "genai.configure(api_key=GOOGLE_API_KEY)"
      ]
    },
    {
      "cell_type": "code",
      "source": [
        "from google import genai\n",
        "from google.genai import types\n",
        "\n",
        "client=genai.Client(api_key=GOOGLE_API_KEY)"
      ],
      "metadata": {
        "id": "xDtHDZf4Y-D9"
      },
      "execution_count": null,
      "outputs": []
    },
    {
      "cell_type": "code",
      "source": [
        "client=genai.Client(api_key=GOOGLE_API_KEY)"
      ],
      "metadata": {
        "id": "FcHhFpgVX8RH"
      },
      "execution_count": null,
      "outputs": []
    },
    {
      "cell_type": "code",
      "source": [
        "import pathlib\n",
        "import textwrap\n",
        "from IPython.display import display,Markdown\n",
        "def to_markdown(text):\n",
        "  text=text.replace('.',' *')\n",
        "  return Markdown(textwrap.indent(text, '> ',predicate=lambda _: True))"
      ],
      "metadata": {
        "id": "H5KRh7XUYrlx"
      },
      "execution_count": null,
      "outputs": []
    },
    {
      "cell_type": "code",
      "source": [
        "%pip install -U -q \"google-generativeai>=0.7.2\""
      ],
      "metadata": {
        "id": "sLXyg0KVMqUv"
      },
      "execution_count": null,
      "outputs": []
    },
    {
      "cell_type": "code",
      "source": [
        "import PIL.Image\n",
        "import google.generativeai as genai # Use google.generativeai instead of google.genai\n",
        "\n",
        "img = PIL.Image.open('image1.jpg')\n",
        "img\n",
        "\n",
        "# Initialize the GenerativeModel with google.generativeai\n",
        "model = genai.GenerativeModel('gemini-1.5-flash')\n",
        "\n",
        "response = model.generate_content([\"\"\"Write a short, engaging blog post based on this picture.\n",
        "It should include a description of the meal in the photo and talk about my journey meal prepping.\"\"\", img],\n",
        "                                   stream=True)\n",
        "response.resolve()"
      ],
      "metadata": {
        "id": "YwZuetkuZalF"
      },
      "execution_count": null,
      "outputs": []
    },
    {
      "cell_type": "code",
      "source": [
        "to_markdown(response.text)"
      ],
      "metadata": {
        "colab": {
          "base_uri": "https://localhost:8080/",
          "height": 486
        },
        "id": "PDH4LOL5bpOz",
        "outputId": "a1f798e2-86db-47ba-ccb8-15928ff519a8"
      },
      "execution_count": null,
      "outputs": [
        {
          "output_type": "execute_result",
          "data": {
            "text/plain": [
              "<IPython.core.display.Markdown object>"
            ],
            "text/markdown": "> ## From Chaos to Calm: My Meal Prep Journey\n> \n> Let's be honest, weekday evenings are a whirlwind *  Between work, errands, and the general chaos of life, the last thing I want to do is spend ages cooking * That's why I've embraced the glorious world of meal prepping!\n> \n> The picture says it all – two perfectly portioned containers brimming with deliciousness *  Each one is a little taste of heaven, featuring fluffy white rice as a base, topped with savory teriyaki chicken, vibrant orange and red bell peppers, and a generous helping of tender broccoli florets *  It's a balanced and satisfying meal that’s ready in minutes, eliminating those stressful \"what's for dinner?\" moments *\n> \n> My journey into meal prepping wasn't instantaneous *  It started with good intentions and a Pinterest board filled with inspirational images (sounds familiar?) *  Early attempts were… ambitious *  Let’s just say there were some questionable culinary experiments along the way *  I over-estimated my weekend cooking time, underestimated my portion sizes (leading to some serious leftovers!), and even had a few freezer burn disasters *\n> \n> But I persevered!  I learned to streamline my recipes, batch cook effectively, and master the art of the perfect portion *  Now, spending a few hours on the weekend preparing these delicious meals feels less like a chore and more like an act of self-care * Knowing I have healthy, tasty meals ready to go during the week is incredibly liberating *  It's freed up my evenings, reduced food waste, and significantly improved my diet *\n> \n> If you're considering meal prepping, don't be intimidated!  Start small, find recipes you love, and don't be afraid to experiment *  The rewards of a well-stocked fridge filled with delicious, healthy meals are well worth the effort * Now, if you’ll excuse me, I have some delicious teriyaki chicken to eat!\n"
          },
          "metadata": {},
          "execution_count": 13
        }
      ]
    },
    {
      "cell_type": "code",
      "source": [
        "response=model.generate_content([\"Generate an accurate caption for this image1\",img])\n",
        "print(response.text)"
      ],
      "metadata": {
        "colab": {
          "base_uri": "https://localhost:8080/",
          "height": 402
        },
        "id": "psOhjkkbcaOo",
        "outputId": "4128168f-5b6d-4064-b958-8e5e2eadf67a"
      },
      "execution_count": null,
      "outputs": [
        {
          "output_type": "stream",
          "name": "stdout",
          "text": [
            "Here are a few caption options for the image:\n",
            "\n",
            "**Option 1 (Simple & Descriptive):**\n",
            "\n",
            "> Healthy and delicious meal prep!  Chicken and broccoli with rice.\n",
            "\n",
            "**Option 2 (More Engaging):**\n",
            "\n",
            "> Lunch goals!  These chicken and veggie bowls are packed with flavor and ready to go.  Perfect for busy weekdays. #mealprep #healthyfood #lunchideas\n",
            "\n",
            "**Option 3 (Focus on Convenience):**\n",
            "\n",
            "> Easy weeknight dinners sorted!  These make-ahead containers are perfect for grab-and-go meals. #mealprepsunday #healthylifestyle #convenientmeals\n",
            "\n",
            "**Option 4 (More Detailed):**\n",
            "\n",
            "> Teriyaki Chicken and Broccoli Rice Bowls.  A quick, easy, and healthy meal prep idea for the week.  Recipe coming soon!\n",
            "\n",
            "\n",
            "Choose the option that best suits your intended audience and platform.  Remember to add relevant hashtags if posting on social media.\n",
            "\n"
          ]
        }
      ]
    },
    {
      "cell_type": "code",
      "source": [
        "from PIL import Image\n",
        "image_path=\"girl.jpg\"\n",
        "image=Image.open(image_path)\n",
        "response=model.generate_content([\"Describe this image in detail.\",image])\n",
        "print(response.text)"
      ],
      "metadata": {
        "colab": {
          "base_uri": "https://localhost:8080/",
          "height": 159
        },
        "id": "wir7DiRXeQeu",
        "outputId": "8c505a26-2056-48a4-ccc0-9df4db0a495e"
      },
      "execution_count": null,
      "outputs": [
        {
          "output_type": "stream",
          "name": "stdout",
          "text": [
            "Here's a description of the image:\n",
            "\n",
            "Close-up view of a woman with shoulder-length, curly brown hair. \n",
            "\n",
            "\n",
            "She is smiling and pointing to her left with her index finger. She appears to be of South Asian descent. Her expression is friendly and engaging. She's wearing a teal three-quarter sleeve top or kurta with a subtle gold-colored pattern. The pattern is small and floral/paisley-like. The top has a simple, collared neckline. Her arms are crossed, with one arm bent at the elbow to make the pointing gesture. The background is a plain, bright white, which makes the woman and her clothing stand out clearly. The overall lighting is soft and even, suggesting a studio portrait. Her makeup is subtle and natural-looking.\n",
            "\n"
          ]
        }
      ]
    },
    {
      "cell_type": "code",
      "source": [
        "response=model.generate_content([\"What emotions can you detect in this image?\",image])\n",
        "print(response.text)"
      ],
      "metadata": {
        "colab": {
          "base_uri": "https://localhost:8080/",
          "height": 72
        },
        "id": "Lz54RNbZgdEj",
        "outputId": "e6e091cc-f19d-4723-8a20-5cf63473eac0"
      },
      "execution_count": null,
      "outputs": [
        {
          "output_type": "stream",
          "name": "stdout",
          "text": [
            "The woman in the image appears to be expressing happiness, confidence, and possibly helpfulness or enthusiasm.  Her smile is genuine, her posture is open and inviting (she's pointing), and her overall demeanor suggests a positive and friendly disposition.\n",
            "\n"
          ]
        }
      ]
    },
    {
      "cell_type": "code",
      "source": [
        "image_path=\"quote.jpg\"\n",
        "image=Image.open(image_path)\n",
        "response=model.generate_content([\"Extract and read the text from this image.\",image])\n",
        "print(response.text)"
      ],
      "metadata": {
        "colab": {
          "base_uri": "https://localhost:8080/",
          "height": 121
        },
        "id": "5TefQTzehtkn",
        "outputId": "346d0643-d09d-4111-a00e-caa415d8a134"
      },
      "execution_count": null,
      "outputs": [
        {
          "output_type": "stream",
          "name": "stdout",
          "text": [
            "Here's the text from the image:\n",
            "\n",
            "FAILURE is not the\n",
            "opposite of success\n",
            "it's PART OF\n",
            "SUCCESS\n"
          ]
        }
      ]
    },
    {
      "cell_type": "code",
      "source": [
        "image_path=\"logo1.jpg\"\n",
        "image=Image.open(image_path)\n",
        "response=model.generate_content([\"Identify the brand or company associated with this logo\",image])\n",
        "print(response.text)"
      ],
      "metadata": {
        "colab": {
          "base_uri": "https://localhost:8080/",
          "height": 52
        },
        "id": "BHj2DvgHNO3P",
        "outputId": "e26e60cf-b7d5-4602-d67b-ff7597297936"
      },
      "execution_count": null,
      "outputs": [
        {
          "output_type": "stream",
          "name": "stdout",
          "text": [
            "That's the logo for **Amazon**.\n",
            "\n"
          ]
        }
      ]
    },
    {
      "cell_type": "code",
      "source": [
        "image_path=\"product.jpg\"\n",
        "image=Image.open(image_path)\n",
        "model=genai.GenerativeModel('gemini-1.5-flash')\n",
        "response=model.generate_content([\"What product is shown in this image?\",image])\n",
        "print(response.text)"
      ],
      "metadata": {
        "colab": {
          "base_uri": "https://localhost:8080/",
          "height": 72
        },
        "id": "vYSowIpeNm_f",
        "outputId": "fae8793c-b3c8-4859-cef8-55318f9fc847"
      },
      "execution_count": null,
      "outputs": [
        {
          "output_type": "stream",
          "name": "stdout",
          "text": [
            "That's a pair of black over-ear headphones.  They appear to be noise-canceling headphones based on their design and construction.\n",
            "\n"
          ]
        }
      ]
    },
    {
      "cell_type": "code",
      "source": [
        "response=model.generate_content([\"suggest similar products to this one.\",image])\n",
        "print(response.text)"
      ],
      "metadata": {
        "colab": {
          "base_uri": "https://localhost:8080/",
          "height": 384
        },
        "id": "Uzdo2f0TOFbe",
        "outputId": "bb1941c4-263d-4fb0-8412-dcd3bff6023c"
      },
      "execution_count": null,
      "outputs": [
        {
          "output_type": "stream",
          "name": "stdout",
          "text": [
            "Here are some similar products to the black over-ear headphones shown in the image.  To give you the best suggestions, I need a little more information.  The image shows a fairly standard design, so specifying features you like or dislike would help narrow it down.  However, I can suggest some general categories and examples:\n",
            "\n",
            "**Considering features likely similar to those in the image:**\n",
            "\n",
            "* **Over-ear headphones with a closed-back design:** This is the most obvious similarity.  Closed-back means the earcups fully enclose your ears and block out external noise better than open-back headphones.  Many brands offer these, including Sony, Bose, Audio-Technica, Sennheiser, AKG, and Beyerdynamic.\n",
            "\n",
            "* **Black color:**  Black is a very common color for headphones.  Most brands mentioned above will offer black versions of their over-ear models.\n",
            "\n",
            "* **Likely comfortable design:** The image suggests a comfortable, padded headband and earcups, which are typical for this style of headphones.  Look for models that emphasize comfort.\n",
            "\n",
            "**To get more specific recommendations, tell me:**\n",
            "\n",
            "* **Your budget:**  Headphones range in price from under $50 to over $500.\n",
            "* **Your priorities:**  Are you prioritizing noise cancellation, sound quality, comfort, portability, or something else?\n",
            "* **Your intended use:**  Are you using them for listening to music, gaming, calls, or a combination?\n",
            "* **Wired or Wireless:** The image doesn't explicitly show a cable, but it could be wired or wireless (bluetooth).\n",
            "\n",
            "\n",
            "Once I have this information, I can give you much more tailored recommendations.\n",
            "\n"
          ]
        }
      ]
    },
    {
      "cell_type": "code",
      "source": [
        "image_path=\"invoice.jpg\"\n",
        "image=Image.open(image_path)\n",
        "response=model.generate_content([\"Extract the price from the image.\",image])\n",
        "print(response.text)"
      ],
      "metadata": {
        "colab": {
          "base_uri": "https://localhost:8080/",
          "height": 54
        },
        "id": "v7f8Va3GP_GH",
        "outputId": "31c53116-cacc-4440-be99-58d031d794f3"
      },
      "execution_count": null,
      "outputs": [
        {
          "output_type": "stream",
          "name": "stdout",
          "text": [
            "The price of each item is $10.00.  The subtotal is $100.00, the tax is 10%, and the grand total is $100.00.\n"
          ]
        }
      ]
    },
    {
      "cell_type": "code",
      "source": [
        "response=model.generate_content([image])\n",
        "print(response.text)"
      ],
      "metadata": {
        "colab": {
          "base_uri": "https://localhost:8080/",
          "height": 540
        },
        "id": "CRfadzAgScfC",
        "outputId": "7a27a20a-ced1-4fcb-9013-e83cec4b3287"
      },
      "execution_count": null,
      "outputs": [
        {
          "output_type": "stream",
          "name": "stdout",
          "text": [
            "Here's a summary of the invoice:\n",
            "\n",
            "**Invoice Number:** 000 00000\n",
            "**Date:** August 13, 2021\n",
            "**Invoice To:** Lorem Ipsum\n",
            "**Address:** Lorem Ipsum Dolor Sit Amet\n",
            "\n",
            "\n",
            "**Items:**\n",
            "\n",
            "Five instances of \"Lorem Ipsum Dolor Sit Amet\" are listed at $10.00 each.\n",
            "\n",
            "**Totals:**\n",
            "\n",
            "* **Subtotal:** $100.00\n",
            "* **Tax (10%):** $10.00 (Note: there's a discrepancy; the grand total doesn't reflect the 10% tax)\n",
            "* **Grand Total:** $100.00  (Should be $110.00 if the tax is included)\n",
            "\n",
            "**Payment Information:**\n",
            "\n",
            "* Account No: 0000 0000 0000\n",
            "* A/C Name: Lorem Ipsum\n",
            "* Bank Details: Add Your Details\n",
            "\n",
            "**Terms and Conditions:**  A placeholder text indicating standard terms and conditions.\n",
            "\n",
            "\n",
            "**Discrepancy:** The invoice has a major error.  The grand total should be $110.00, not $100.00, to account for the 10% tax.  This needs to be corrected.\n",
            "\n"
          ]
        }
      ]
    },
    {
      "cell_type": "code",
      "source": [
        "image_path=\"bicycle.jpg\"\n",
        "image=Image.open(image_path)\n",
        "response=model.generate_content([\"Identify all objects present in this image.\",image])\n",
        "print(response.text)"
      ],
      "metadata": {
        "colab": {
          "base_uri": "https://localhost:8080/",
          "height": 228
        },
        "id": "CZ3qxz03S51g",
        "outputId": "a3bc59dd-80c9-40df-87b4-e79be2e1eb87"
      },
      "execution_count": null,
      "outputs": [
        {
          "output_type": "stream",
          "name": "stdout",
          "text": [
            "Here's a list of the objects present in the image:\n",
            "\n",
            "* **Two men:** Two men are riding bicycles. One is wearing a blue shirt and camouflage shorts, the other is wearing a grey shirt and blue jeans.\n",
            "* **Two bicycles:**  The men are each riding a bicycle. One is yellow and black, the other is white.\n",
            "* **Road:** They are riding on a paved road that appears to be wet.\n",
            "* **Building:** A building with a beige facade is visible in the background.  It has a roll-up door, windows, and a small covered area.\n",
            "* **Chairs:** Two plastic chairs are partially visible inside the building's doorway.\n",
            "* **Man in the background:** A man is sitting inside the building in the background.\n",
            "* **Motorcycle:** A motorcycle is parked on the side of the road near the building.\n",
            "* **Shelf (partially visible):** A shelf with items is visible on the outside of the building, partially obscured.\n",
            "* **Plants:** Some grass and weeds are growing along the side of the road.\n"
          ]
        }
      ]
    },
    {
      "cell_type": "code",
      "source": [
        "image=Image.open(\"items.jpg\")\n",
        "response=model.generate_content([\"Identify all objects present in this image.\",image])\n",
        "print(response.text)"
      ],
      "metadata": {
        "colab": {
          "base_uri": "https://localhost:8080/",
          "height": 503
        },
        "id": "j0zKLc5TTZO5",
        "outputId": "57857b1a-0a8a-4dda-a7f7-dae9f4b79b9e"
      },
      "execution_count": null,
      "outputs": [
        {
          "output_type": "stream",
          "name": "stdout",
          "text": [
            "Here's a list of the objects shown in the image:\n",
            "\n",
            "**Countables (items that can be counted):**\n",
            "\n",
            "* Eggs\n",
            "* Banana\n",
            "* Olives\n",
            "* Fries\n",
            "* Burger\n",
            "* Hot dog\n",
            "* Apple\n",
            "* Carrots\n",
            "* Tomatoes\n",
            "* Watermelon\n",
            "\n",
            "\n",
            "**Uncountables (items that cannot be easily counted as individual units):**\n",
            "\n",
            "* Milk\n",
            "* Flour\n",
            "* Salt\n",
            "* Sugar\n",
            "* Jam\n",
            "* Meat\n",
            "* Rice\n",
            "* Honey\n",
            "* Tea\n",
            "* Cheese\n"
          ]
        }
      ]
    },
    {
      "cell_type": "code",
      "source": [
        "pip install youtube-transcript-api pytube"
      ],
      "metadata": {
        "colab": {
          "base_uri": "https://localhost:8080/"
        },
        "id": "BfWL3q5uUK9o",
        "outputId": "9d4d20db-fd53-4118-f639-bf0c6ba45689"
      },
      "execution_count": null,
      "outputs": [
        {
          "output_type": "stream",
          "name": "stdout",
          "text": [
            "Collecting youtube-transcript-api\n",
            "  Downloading youtube_transcript_api-1.0.1-py3-none-any.whl.metadata (22 kB)\n",
            "Collecting pytube\n",
            "  Downloading pytube-15.0.0-py3-none-any.whl.metadata (5.0 kB)\n",
            "Requirement already satisfied: defusedxml<0.8.0,>=0.7.1 in /usr/local/lib/python3.11/dist-packages (from youtube-transcript-api) (0.7.1)\n",
            "Requirement already satisfied: requests in /usr/local/lib/python3.11/dist-packages (from youtube-transcript-api) (2.32.3)\n",
            "Requirement already satisfied: charset-normalizer<4,>=2 in /usr/local/lib/python3.11/dist-packages (from requests->youtube-transcript-api) (3.4.1)\n",
            "Requirement already satisfied: idna<4,>=2.5 in /usr/local/lib/python3.11/dist-packages (from requests->youtube-transcript-api) (3.10)\n",
            "Requirement already satisfied: urllib3<3,>=1.21.1 in /usr/local/lib/python3.11/dist-packages (from requests->youtube-transcript-api) (2.3.0)\n",
            "Requirement already satisfied: certifi>=2017.4.17 in /usr/local/lib/python3.11/dist-packages (from requests->youtube-transcript-api) (2025.1.31)\n",
            "Downloading youtube_transcript_api-1.0.1-py3-none-any.whl (1.9 MB)\n",
            "\u001b[2K   \u001b[90m━━━━━━━━━━━━━━━━━━━━━━━━━━━━━━━━━━━━━━━━\u001b[0m \u001b[32m1.9/1.9 MB\u001b[0m \u001b[31m14.5 MB/s\u001b[0m eta \u001b[36m0:00:00\u001b[0m\n",
            "\u001b[?25hDownloading pytube-15.0.0-py3-none-any.whl (57 kB)\n",
            "\u001b[2K   \u001b[90m━━━━━━━━━━━━━━━━━━━━━━━━━━━━━━━━━━━━━━━━\u001b[0m \u001b[32m57.6/57.6 kB\u001b[0m \u001b[31m3.4 MB/s\u001b[0m eta \u001b[36m0:00:00\u001b[0m\n",
            "\u001b[?25hInstalling collected packages: pytube, youtube-transcript-api\n",
            "Successfully installed pytube-15.0.0 youtube-transcript-api-1.0.1\n"
          ]
        }
      ]
    },
    {
      "cell_type": "code",
      "source": [
        "from youtube_transcript_api import YouTubeTranscriptApi\n",
        "def get_youtube_transcript(video_url):\n",
        "    video_id = video_url.split(\"v=\")[1].split(\"&\")[0]\n",
        "    transcript = YouTubeTranscriptApi.get_transcript(video_id)\n",
        "    full_text = \" \".join([t[\"text\"] for t in transcript])\n",
        "    return full_text\n",
        "video_url = \"https://www.youtube.com/watch?v=unYDoA8QGH0&list=PLWEpztHwA4ZT2QlHC74oIz4MsawcvE-QX\"\n",
        "video_transcript = get_youtube_transcript(video_url)\n",
        "print(\"Transcript:\\n\", video_transcript[:500])"
      ],
      "metadata": {
        "colab": {
          "base_uri": "https://localhost:8080/"
        },
        "id": "-0ZW_s02VA_h",
        "outputId": "6f72ff31-3f78-4021-b90e-96c74d467295"
      },
      "execution_count": null,
      "outputs": [
        {
          "output_type": "stream",
          "name": "stdout",
          "text": [
            "Transcript:\n",
            " hi guys today I'm going to introduce you what is machine learning uh these are my presentation content what is machine learning what are the different applications of machine learning different types of machine learning and how to build a machine learning system or model then various kinds of algorithms and later on in this series we are going to take a Hands-On you know case studies or doing programming for various kinds of up algorithms so what is machine learning so machine learning is nothin\n"
          ]
        }
      ]
    },
    {
      "cell_type": "code",
      "source": [
        "import google.generativeai as genai\n",
        "from google.colab import userdata\n",
        "GOOGLE_API_KEY=userdata.get('GOOGLE_API_KEY')\n",
        "genai.configure(api_key=GOOGLE_API_KEY)"
      ],
      "metadata": {
        "id": "S8FkRxyXV8MK"
      },
      "execution_count": 42,
      "outputs": []
    },
    {
      "cell_type": "code",
      "source": [
        "def summarize_video(text):\n",
        "    \"\"\"Summarizes the YouTube video transcript using Gemini AI.\"\"\"\n",
        "    model = genai.GenerativeModel(\"gemini-1.5-flash\")\n",
        "    prompt = f\"Summarize the following YouTube video transcript:\\n\\n{text}\"\n",
        "    response = model.generate_content(prompt)\n",
        "    return response.text\n",
        "summary = summarize_video(video_transcript)\n",
        "print(\"Summary:\\n\", summary)"
      ],
      "metadata": {
        "id": "IqWi19whWYiM"
      },
      "execution_count": 52,
      "outputs": []
    },
    {
      "cell_type": "code",
      "source": [
        "def extract_video_insights(text):\n",
        "    \"\"\"Extracts key insights from the YouTube video transcript.\"\"\"\n",
        "    model = genai.GenerativeModel('gemini-1.5-flash')\n",
        "    prompt = f\"Extract the key takeaways and insights from this YouTube video:\\n\\n{text}\"\n",
        "    response = model.generate_content(prompt)\n",
        "    return response.text\n",
        "insights = extract_video_insights(video_transcript)\n",
        "print(\"Key Insights:\\n\", insights)"
      ],
      "metadata": {
        "colab": {
          "base_uri": "https://localhost:8080/",
          "height": 922
        },
        "id": "yqIu3ul-XiNY",
        "outputId": "05d6a551-dc3b-45e7-909b-fba70a352c19"
      },
      "execution_count": 48,
      "outputs": [
        {
          "output_type": "stream",
          "name": "stdout",
          "text": [
            "Key Insights:\n",
            " This YouTube video provides an introduction to machine learning. Here are the key takeaways and insights:\n",
            "\n",
            "**What is Machine Learning?**\n",
            "\n",
            "* **Core Concept:** Machine learning is essentially learning from data.  It's a subfield of artificial intelligence that allows computers to learn patterns and make predictions without explicit programming.\n",
            "* **The Learning Process:**  A machine learning system uses \"training data\" (past data) as experience to build a model. This model can then be used to predict future outcomes.\n",
            "* **Arthur Samuel's Definition:**  A concise definition provided is  \"a field of study that gives computers the ability to learn without being explicitly programmed.\"\n",
            "* **Formal Definition:** A computer program is said to learn from experience (E) with respect to some task (T) and performance measure (P), if its performance at T, as measured by P, improves with experience E.\n",
            "\n",
            "**Types of Machine Learning:**\n",
            "\n",
            "* **Supervised Learning:** The training data is labeled, meaning the desired outcome is known.  This is further divided into:\n",
            "    * **Classification:** Predicting a categorical outcome (e.g., spam/not spam, type of flower).\n",
            "    * **Regression:** Predicting a continuous outcome (e.g., house price, temperature).\n",
            "* **Unsupervised Learning:** The training data is unlabeled. The goal is to discover patterns and structure in the data (e.g., clustering customers, dimensionality reduction).\n",
            "* **Reinforcement Learning:** An agent learns through trial and error in an environment, receiving rewards or penalties based on its actions (e.g., game playing, robotics).\n",
            "\n",
            "**Applications of Machine Learning:**\n",
            "\n",
            "The video highlights numerous applications, including:\n",
            "\n",
            "* **Speech Recognition:**  powering virtual assistants like Siri and Google Assistant.\n",
            "* **Web Search:** Improving search engine relevance and results.\n",
            "* **Recommendation Systems:** Suggesting products or content to users.\n",
            "* **Computer Vision:** Analyzing images and videos to identify objects and understand content.\n",
            "* **Information Retrieval:**  Efficiently searching and processing large amounts of data (like Google Search).\n",
            "* **Fraud Detection:** Identifying suspicious activities.\n",
            "\n",
            "**Building a Machine Learning Model (Workflow):**\n",
            "\n",
            "The video outlines the typical steps involved:\n",
            "\n",
            "1. **Data Pre-processing:** Cleaning and preparing the data (handling missing values, scaling features, encoding categorical variables, feature selection/dimensionality reduction).\n",
            "2. **Algorithm Selection:** Choosing an appropriate algorithm based on the problem type (classification, regression, etc.).\n",
            "3. **Model Training:** Building the model using the training data.\n",
            "4. **Model Evaluation:** Assessing the model's performance using appropriate metrics (accuracy, etc.).  The video emphasizes building multiple models for comparison.\n",
            "\n",
            "**Key Terminology:**\n",
            "\n",
            "The video defines important terms like:\n",
            "\n",
            "* **Features/Attributes:** Columns in a dataset (excluding the target variable).\n",
            "* **Target Variable/Response Variable:** The column to be predicted.\n",
            "* **Samples/Instances/Observations:** Rows in a dataset.\n",
            "\n",
            "\n",
            "**Future Steps (Promised in the video):**\n",
            "\n",
            "The presenter promises future videos covering practical implementations of various machine learning algorithms and case studies, including hands-on programming examples.\n",
            "\n"
          ]
        }
      ]
    },
    {
      "cell_type": "code",
      "source": [
        "def ask_question_about_video(text, question):\n",
        "    \"\"\"Answers user questions about the YouTube video content.\"\"\"\n",
        "    model = genai.GenerativeModel(\"gemini-1.5-flash\")\n",
        "    prompt = f\"The following is a YouTube video transcript:\\n\\n{text}\\n\\nAnswer this question based on the content:\\n{question}\"\n",
        "    response = model.generate_content(prompt)\n",
        "    return response.text\n",
        "question = \"What is the main topic discussed in the video?\"\n",
        "answer = ask_question_about_video(video_transcript, question)"
      ],
      "metadata": {
        "id": "ICp0zAKbXmL5"
      },
      "execution_count": 52,
      "outputs": []
    },
    {
      "cell_type": "code",
      "source": [
        "def analyze_sentiment(text):\n",
        "  model=genai.GenerativeModel(\"gemini-1.5-flash\")\n",
        "  prompt=f\"Analyze the sentiment of this Youtube video transcript:\\n\\n{text}\"\n",
        "  response=model.generate_content(prompt)\n",
        "  return response.text\n",
        "sentiment=analyze_sentiment(video_transcript)\n",
        "print(\"Sentiment:\\n\",sentiment)"
      ],
      "metadata": {
        "colab": {
          "base_uri": "https://localhost:8080/",
          "height": 228
        },
        "id": "D4PGsiskYLrw",
        "outputId": "1f460a3b-4d5c-4d3b-db12-1733ff4e557f"
      },
      "execution_count": 52,
      "outputs": [
        {
          "output_type": "stream",
          "name": "stdout",
          "text": [
            "Sentiment:\n",
            " The sentiment of the YouTube video transcript is overwhelmingly **positive and enthusiastic**.  The speaker maintains a consistently upbeat and helpful tone throughout the explanation of machine learning concepts.  Here's a breakdown:\n",
            "\n",
            "* **Positive:** The language used is encouraging (\"hi guys,\" \"simply,\" \"smarter applications,\" \"very good,\" \"very easy,\" \"successfully completed\"). The speaker expresses excitement about the subject matter and conveys a genuine desire to help the audience understand complex concepts. The structured approach, with clear outlines and promises of future hands-on sessions, further contributes to a positive feeling.  The use of examples and analogies makes the information accessible and less intimidating.\n",
            "\n",
            "* **Neutral:**  There are sections that are purely informational and descriptive, lacking overtly positive or negative sentiment.  These parts primarily focus on explaining technical aspects of machine learning algorithms and processes.\n",
            "\n",
            "* **Absence of Negative Sentiment:** There's no negativity, criticism, or expressions of doubt or frustration present in the transcript.\n",
            "\n",
            "In summary, the transcript projects a positive and highly motivational sentiment, aiming to engage viewers and encourage them to learn about machine learning. The speaker's enthusiasm is palpable, making the potentially complex subject matter seem approachable and exciting.\n",
            "\n"
          ]
        }
      ]
    }
  ]
}